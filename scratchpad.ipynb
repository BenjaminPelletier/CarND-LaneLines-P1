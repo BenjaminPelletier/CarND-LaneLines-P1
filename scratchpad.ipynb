{
 "cells": [
  {
   "cell_type": "code",
   "execution_count": 50,
   "metadata": {},
   "outputs": [
    {
     "data": {
      "text/plain": [
       "<matplotlib.image.AxesImage at 0x7efc6e414278>"
      ]
     },
     "execution_count": 50,
     "metadata": {},
     "output_type": "execute_result"
    },
    {
     "data": {
      "image/png": "[encoded data removed]",
      "text/plain": [
       "<matplotlib.figure.Figure at 0x7efc6e6417f0>"
      ]
     },
     "metadata": {},
     "output_type": "display_data"
    },
    {
     "data": {
      "image/png": "[encoded data removed]",
      "text/plain": [
       "<matplotlib.figure.Figure at 0x7efc6e4dd940>"
      ]
     },
     "metadata": {},
     "output_type": "display_data"
    },
    {
     "data": {
      "image/png": "[encoded data removed]",
      "text/plain": [
       "<matplotlib.figure.Figure at 0x7efc6e480780>"
      ]
     },
     "metadata": {},
     "output_type": "display_data"
    }
   ],
   "source": [
    "import matplotlib.pyplot as plt\n",
    "import matplotlib.image as mpimg\n",
    "import numpy as np\n",
    "import cv2\n",
    "%matplotlib inline\n",
    "\n",
    "def background_lighting(img):\n",
    "    # CoZmpute the integral of img\n",
    "    simg = np.cumsum(np.cumsum(img, 0), 1)\n",
    "    \n",
    "    # Construct window-bounding integral indices for each pixel\n",
    "    i_x, i_y = np.meshgrid(range(0,img.shape[1]), range(0,img.shape[0]))\n",
    "    r = 2\n",
    "    i0_x = np.maximum(i_x - r, 0)\n",
    "    i0_y = np.maximum(i_y - r, 0)\n",
    "    i1_x = np.minimum(i_x + r, img.shape[1]-1)\n",
    "    i1_y = np.minimum(i_y + r, img.shape[0]-1)\n",
    "    \n",
    "    # Sum in window starts as the integral from (0,0) to the lower-right window pixel\n",
    "    bg = simg[i1_y, i1_x, :]\n",
    "    mask = i0_x > 0\n",
    "    \n",
    "    # ...but subtract the integral from (0,0) to the lower-left window pixel\n",
    "    bg[mask, :] -= simg[i1_y, i0_x-1, :][mask, :]\n",
    "    mask = i0_y > 0\n",
    "    \n",
    "    # ...and also subtract the integral from (0,0) to the upper-right window pixel\n",
    "    bg[mask, :] -= simg[i0_y-1, i1_x, :][mask, :]\n",
    "    \n",
    "    # ...but then add back in the integral from (0,0) to the upper-left window pixel\n",
    "    mask = np.logical_and(i0_x > 0, i0_y > 0)\n",
    "    bg[mask, :] += simg[i0_y-1, i0_x-1, :][mask, :]\n",
    "    \n",
    "    # Divide sums-in-windows by actual window sizes\n",
    "    area = np.zeros_like(bg)\n",
    "    area[:,:,0] = (i1_y-i0_y+1) * (i1_x-i0_x+1)\n",
    "    area[:,:,1] = area[:,:,0]\n",
    "    area[:,:,2] = area[:,:,0]\n",
    "    bg /= area\n",
    "    \n",
    "    return bg\n",
    "\n",
    "img = np.random.rand(10,20,3)\n",
    "imgb = cv2.GaussianBlur(img, (5, 5), 0)\n",
    "imgl = background_lighting(img)\n",
    "plt.figure()\n",
    "plt.imshow(img)\n",
    "plt.figure()\n",
    "plt.imshow(imgb)\n",
    "plt.figure()\n",
    "plt.imshow(imgl)"
   ]
  },
  {
   "cell_type": "code",
   "execution_count": null,
   "metadata": {},
   "outputs": [],
   "source": []
  }
 ],
 "metadata": {
  "kernelspec": {
   "display_name": "Python 3",
   "language": "python",
   "name": "python3"
  },
  "language_info": {
   "codemirror_mode": {
    "name": "ipython",
    "version": 3
   },
   "file_extension": ".py",
   "mimetype": "text/x-python",
   "name": "python",
   "nbconvert_exporter": "python",
   "pygments_lexer": "ipython3",
   "version": "3.5.2"
  },
  "widgets": {
   "state": {},
   "version": "1.1.2"
  }
 },
 "nbformat": 4,
 "nbformat_minor": 2
}
